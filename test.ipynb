{
 "cells": [
  {
   "cell_type": "code",
   "execution_count": 1,
   "id": "aa6a30e3",
   "metadata": {},
   "outputs": [],
   "source": [
    "import pandas as pd\n",
    "from model import HeartDiseaseDetector"
   ]
  },
  {
   "cell_type": "code",
   "execution_count": 2,
   "id": "7cd96131",
   "metadata": {},
   "outputs": [],
   "source": [
    "data = pd.read_csv('dataset.csv')"
   ]
  },
  {
   "cell_type": "code",
   "execution_count": 7,
   "id": "f3584b9c",
   "metadata": {},
   "outputs": [
    {
     "data": {
      "text/plain": [
       "{'Age': 64,\n",
       " 'Sex': 'M',\n",
       " 'ChestPainType': 'ASY',\n",
       " 'RestingBP': 130,\n",
       " 'Cholesterol': 258,\n",
       " 'FastingBS': 1,\n",
       " 'RestingECG': 'LVH',\n",
       " 'MaxHR': 130,\n",
       " 'ExerciseAngina': 'N',\n",
       " 'Oldpeak': 0.0,\n",
       " 'ST_Slope': 'Flat',\n",
       " 'HeartDisease': 1}"
      ]
     },
     "execution_count": 7,
     "metadata": {},
     "output_type": "execute_result"
    }
   ],
   "source": [
    "df=data.sample(1).to_dict(orient='records')[0]\n",
    "df"
   ]
  },
  {
   "cell_type": "code",
   "execution_count": 8,
   "id": "7499daf6",
   "metadata": {},
   "outputs": [
    {
     "name": "stdout",
     "output_type": "stream",
     "text": [
      "Models and preprocessors loaded successfully!\n",
      "Heart Disease 0.8766075261806859\n"
     ]
    }
   ],
   "source": [
    "detector= HeartDiseaseDetector()\n",
    "detector.load_model(name='svm')\n",
    "result= detector.predict_single(patient_data= df, model_name='svm')\n",
    "print(result['prediction'],result['probability_disease'])"
   ]
  }
 ],
 "metadata": {
  "kernelspec": {
   "display_name": "env",
   "language": "python",
   "name": "python3"
  },
  "language_info": {
   "codemirror_mode": {
    "name": "ipython",
    "version": 3
   },
   "file_extension": ".py",
   "mimetype": "text/x-python",
   "name": "python",
   "nbconvert_exporter": "python",
   "pygments_lexer": "ipython3",
   "version": "3.13.5"
  }
 },
 "nbformat": 4,
 "nbformat_minor": 5
}
